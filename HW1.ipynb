{
  "nbformat": 4,
  "nbformat_minor": 0,
  "metadata": {
    "colab": {
      "provenance": []
    },
    "kernelspec": {
      "name": "python3",
      "display_name": "Python 3"
    },
    "language_info": {
      "name": "python"
    }
  },
  "cells": [
    {
      "cell_type": "markdown",
      "source": [
        "*   Bennett Nguyen\n",
        "*   00001601347\n",
        "*   Web and Data Mining / CSCI 185"
      ],
      "metadata": {
        "id": "DYTAybZsMLTg"
      }
    },
    {
      "cell_type": "code",
      "execution_count": 1,
      "metadata": {
        "colab": {
          "base_uri": "https://localhost:8080/"
        },
        "id": "rkGGw2TqHbzt",
        "outputId": "347e9a0c-de69-4096-f605-a07a6a3cb72a"
      },
      "outputs": [
        {
          "output_type": "stream",
          "name": "stdout",
          "text": [
            "[1, 2, 3, 4, 5]\n"
          ]
        }
      ],
      "source": [
        "# Task 1\n",
        "def task1():\n",
        "  # initialize list\n",
        "  list = [1, 2, 3, 4, 5]\n",
        "  print(list)\n",
        "\n",
        "task1()"
      ]
    },
    {
      "cell_type": "code",
      "source": [
        "# Task 2\n",
        "def task2():\n",
        "  # open task2.data file that was made\n",
        "  file = open(\"task2.data\", \"r\")\n",
        "  data = file.read()\n",
        "\n",
        "  # list comprehension to get each number\n",
        "  items = [int(num) for num in data.split(\" \")]\n",
        "  items1 = items[:5]\n",
        "  items2 = items[5:]\n",
        "\n",
        "  print(items1)\n",
        "  print(items2)\n",
        "\n",
        "task2()"
      ],
      "metadata": {
        "colab": {
          "base_uri": "https://localhost:8080/"
        },
        "id": "x7hSauG5NAU0",
        "outputId": "da3b99ce-4042-4dea-abd1-2eff89eddc16"
      },
      "execution_count": 2,
      "outputs": [
        {
          "output_type": "stream",
          "name": "stdout",
          "text": [
            "[1, 2, 3, 4, 5]\n",
            "[6, 7, 8, 9, 10]\n"
          ]
        }
      ]
    },
    {
      "cell_type": "code",
      "source": [
        "# Task 3\n",
        "def task3():\n",
        "  # initialization of dictionary\n",
        "  data = dict()\n",
        "  data['school'] = 'UAlbany'\n",
        "  data['address'] = '1400 Washington Ave, Albany, NY 12222'\n",
        "  data['phone'] = '(518) 442-3300'\n",
        "\n",
        "  # retrieving the keys\n",
        "  keys = list(data.keys())\n",
        "\n",
        "  # retrieving the values\n",
        "  values = list(data.values())\n",
        "\n",
        "  # printing out in desired format\n",
        "  for i in range(3):\n",
        "    print(keys[i], \":\", values[i])\n",
        "\n",
        "task3()"
      ],
      "metadata": {
        "colab": {
          "base_uri": "https://localhost:8080/"
        },
        "id": "3_UCkns5T7co",
        "outputId": "7e4c769e-a3c5-447c-91b1-184f671dc7b7"
      },
      "execution_count": 3,
      "outputs": [
        {
          "output_type": "stream",
          "name": "stdout",
          "text": [
            "school : UAlbany\n",
            "address : 1400 Washington Ave, Albany, NY 12222\n",
            "phone : (518) 442-3300\n"
          ]
        }
      ]
    },
    {
      "cell_type": "code",
      "source": [
        "# Task 4\n",
        "import json\n",
        "def task4():\n",
        "  # initialization of dictionary\n",
        "  data = {'school':'UAlbany', 'address':'1400 Washington Ave, Albany, NY 12222', 'phone':'(518) 442-3300'}\n",
        "  # dumping dictionary into json string\n",
        "  string = json.dumps(data)\n",
        "\n",
        "  # generating text file to write json string\n",
        "  file = open(\"task4.txt\", \"w\")\n",
        "  file.write(string)\n",
        "  file.close()\n",
        "\n",
        "  # open text file to read json string\n",
        "  file = open(\"task4.txt\", \"r\")\n",
        "  read_string = file.read()\n",
        "\n",
        "  # loading read json string into dictionary\n",
        "  dict = json.loads(read_string)\n",
        "\n",
        "  print(dict)\n",
        "\n",
        "task4()"
      ],
      "metadata": {
        "id": "Xa5tJJShwetn",
        "colab": {
          "base_uri": "https://localhost:8080/"
        },
        "outputId": "4d7b7f28-1f67-42da-c994-2ab2f62ef280"
      },
      "execution_count": 4,
      "outputs": [
        {
          "output_type": "stream",
          "name": "stdout",
          "text": [
            "{'school': 'UAlbany', 'address': '1400 Washington Ave, Albany, NY 12222', 'phone': '(518) 442-3300'}\n"
          ]
        }
      ]
    },
    {
      "cell_type": "code",
      "source": [
        "# Task 5\n",
        "import pickle\n",
        "def task5():\n",
        "  # initialization of list and dictionary\n",
        "  list = [1, 2, 3, 4, 5]\n",
        "  dictionary = {'school':'UAlbany', 'address':'1400 Washington Ave, Albany, NY 12222', 'phone':'(518) 442-3300'}\n",
        "\n",
        "  # generating data file in append binary mode\n",
        "  file = open('task5.data', 'ab')\n",
        "  # using pickle to dump list and dictionary\n",
        "  pickle.dump(list, file)\n",
        "  pickle.dump(dictionary, file)\n",
        "  file.close()\n",
        "\n",
        "  # opening data file in read binary mode and using pickle to load into objects\n",
        "  file = open('task5.data', 'rb')\n",
        "  read_list = pickle.load(file)\n",
        "  read_dictionary = pickle.load(file)\n",
        "\n",
        "  print(read_list)\n",
        "  print(read_dictionary)\n",
        "\n",
        "task5()"
      ],
      "metadata": {
        "colab": {
          "base_uri": "https://localhost:8080/"
        },
        "id": "7AA3ME1DiC6r",
        "outputId": "463df60c-bd6b-46d5-bb00-2d50c4fdda1c"
      },
      "execution_count": 5,
      "outputs": [
        {
          "output_type": "stream",
          "name": "stdout",
          "text": [
            "[1, 2, 3, 4, 5]\n",
            "{'school': 'UAlbany', 'address': '1400 Washington Ave, Albany, NY 12222', 'phone': '(518) 442-3300'}\n"
          ]
        }
      ]
    },
    {
      "cell_type": "code",
      "source": [
        "# Task 6\n",
        "def task6():\n",
        "  # open crime report text file and read the lines\n",
        "  tweets = open('CrimeReport.txt', 'r').readlines()\n",
        "\n",
        "  # using json while traversing tweets to get all the ids\n",
        "  for string in tweets:\n",
        "    tweet = json.loads(string)\n",
        "    print(\"Tweet ID: \", tweet['id'])\n",
        "\n",
        "task6()"
      ],
      "metadata": {
        "colab": {
          "base_uri": "https://localhost:8080/"
        },
        "id": "sy9oHqXddxgl",
        "outputId": "ecf2264d-3600-43df-96e5-eed6914ed4c6"
      },
      "execution_count": 6,
      "outputs": [
        {
          "output_type": "stream",
          "name": "stdout",
          "text": [
            "Tweet ID:  429129916446031872\n",
            "Tweet ID:  429117247307923456\n",
            "Tweet ID:  429315798893461505\n",
            "Tweet ID:  429079910091476992\n",
            "Tweet ID:  429030956888899584\n",
            "Tweet ID:  429152645702352896\n",
            "Tweet ID:  429016075921940481\n",
            "Tweet ID:  428898232690044928\n",
            "Tweet ID:  428956892602191873\n",
            "Tweet ID:  429111068368326656\n",
            "Tweet ID:  429167217976958976\n",
            "Tweet ID:  429379822314614785\n",
            "Tweet ID:  429235096919359488\n",
            "Tweet ID:  428986795586383872\n",
            "Tweet ID:  429238790310203392\n",
            "Tweet ID:  429509723516194817\n",
            "Tweet ID:  429509617756811264\n",
            "Tweet ID:  429509135437017089\n",
            "Tweet ID:  429509033045659648\n",
            "Tweet ID:  429508763708817408\n",
            "Tweet ID:  429508217303875584\n",
            "Tweet ID:  429508122604883969\n",
            "Tweet ID:  429507949934157824\n",
            "Tweet ID:  429507930975510528\n",
            "Tweet ID:  429507700716613632\n",
            "Tweet ID:  429507388056412160\n",
            "Tweet ID:  429507387393703936\n",
            "Tweet ID:  429507291763576832\n",
            "Tweet ID:  429506469214437376\n",
            "Tweet ID:  429506433801924608\n",
            "Tweet ID:  429506012626702336\n",
            "Tweet ID:  429505339621662720\n",
            "Tweet ID:  429505236148174848\n",
            "Tweet ID:  429505189544878081\n",
            "Tweet ID:  429505128605818880\n",
            "Tweet ID:  429505116433956864\n",
            "Tweet ID:  429504618939158528\n",
            "Tweet ID:  429503319321493504\n",
            "Tweet ID:  429503199959986177\n",
            "Tweet ID:  429502545145237504\n",
            "Tweet ID:  429502437460680704\n",
            "Tweet ID:  429502289481449472\n",
            "Tweet ID:  429502207763836929\n",
            "Tweet ID:  429502122015481856\n",
            "Tweet ID:  429501723934461952\n",
            "Tweet ID:  429501695442186240\n",
            "Tweet ID:  429501574805585920\n",
            "Tweet ID:  429501521940598784\n",
            "Tweet ID:  429501272786354176\n",
            "Tweet ID:  429501173670739968\n",
            "Tweet ID:  429500659553931264\n",
            "Tweet ID:  429500626821996544\n",
            "Tweet ID:  429500250303111168\n",
            "Tweet ID:  429499974507061248\n",
            "Tweet ID:  429499957083897856\n",
            "Tweet ID:  429499927874789376\n",
            "Tweet ID:  429499891593658368\n",
            "Tweet ID:  429499566778351616\n",
            "Tweet ID:  429499480954531841\n",
            "Tweet ID:  429499000081760256\n",
            "Tweet ID:  429498405837369344\n",
            "Tweet ID:  429498397167734784\n",
            "Tweet ID:  429497948267765760\n",
            "Tweet ID:  429497921277415426\n",
            "Tweet ID:  429497098531115008\n",
            "Tweet ID:  429496907191181312\n",
            "Tweet ID:  429496260790206467\n",
            "Tweet ID:  429496119207272448\n",
            "Tweet ID:  429495848548847616\n",
            "Tweet ID:  429495195319951361\n",
            "Tweet ID:  429495172859060224\n",
            "Tweet ID:  429494325622222848\n",
            "Tweet ID:  429493745243799552\n",
            "Tweet ID:  429493724763389953\n",
            "Tweet ID:  429493689216679936\n",
            "Tweet ID:  429493026323300352\n",
            "Tweet ID:  429492585606807552\n",
            "Tweet ID:  429492578195472384\n",
            "Tweet ID:  429492510801420288\n",
            "Tweet ID:  429492212674478080\n",
            "Tweet ID:  429491944268374016\n",
            "Tweet ID:  429491406961250305\n",
            "Tweet ID:  429490875685556224\n",
            "Tweet ID:  429489676513054720\n",
            "Tweet ID:  429489649082314752\n",
            "Tweet ID:  429489638408220672\n",
            "Tweet ID:  429489636746878976\n",
            "Tweet ID:  429489636444884992\n",
            "Tweet ID:  429489636423897090\n",
            "Tweet ID:  429489636386144256\n",
            "Tweet ID:  429489380147740672\n",
            "Tweet ID:  429488933169147904\n",
            "Tweet ID:  429488616197193730\n",
            "Tweet ID:  429488467572056064\n",
            "Tweet ID:  429488175862808576\n",
            "Tweet ID:  429488126608678912\n",
            "Tweet ID:  429487461878992897\n",
            "Tweet ID:  429487155757330432\n",
            "Tweet ID:  429487042423033856\n",
            "Tweet ID:  429486947955146752\n",
            "Tweet ID:  429486365659906048\n",
            "Tweet ID:  429485718771990528\n",
            "Tweet ID:  429485563507654656\n",
            "Tweet ID:  429485059242856448\n",
            "Tweet ID:  429484915839991808\n",
            "Tweet ID:  429484743227625472\n",
            "Tweet ID:  429484226082525184\n",
            "Tweet ID:  429484187171971072\n",
            "Tweet ID:  429483997932949504\n",
            "Tweet ID:  429483743066091521\n",
            "Tweet ID:  429483488165654528\n",
            "Tweet ID:  429482862300397568\n",
            "Tweet ID:  429482630036205568\n",
            "Tweet ID:  429482200552067073\n",
            "Tweet ID:  429482178645606400\n"
          ]
        }
      ]
    },
    {
      "cell_type": "code",
      "source": [
        "# Task 7\n",
        "import datetime\n",
        "def task7(filename):\n",
        "  # reading all tweets in the text file into a list\n",
        "  tweets = []\n",
        "  for line in open(filename, 'r').readlines():\n",
        "    tweet = json.loads(line)\n",
        "    tweets.append(tweet)\n",
        "\n",
        "  # using sorted to sort the datetimes\n",
        "  sorted_tweets = sorted(tweets, key=lambda item: datetime.datetime.strptime(tweet['created_at'], '%a %b %d %H:%M:%S +0000 %Y'))\n",
        "\n",
        "  # generate data file in write mode\n",
        "  f = open('task7.data', 'w')\n",
        "  # writing the 10 most recent tweets into the data file\n",
        "  for tweet in sorted_tweets[-10:]:\n",
        "    f.write(json.dumps(tweet) + '\\n')\n",
        "  f.close()\n",
        "\n",
        "task7('CrimeReport.txt')"
      ],
      "metadata": {
        "id": "ZlGx5w1MjT49"
      },
      "execution_count": 7,
      "outputs": []
    },
    {
      "cell_type": "code",
      "source": [
        "# Task 8\n",
        "import os\n",
        "def task8(filename, folder):\n",
        "  # reading all tweets in the text file into a list\n",
        "  tweets = []\n",
        "  for line in open(filename, 'r').readlines():\n",
        "    tweet = json.loads(line)\n",
        "    tweets.append(tweet)\n",
        "\n",
        "  # create dictionary for all hour groups\n",
        "  groups = {}\n",
        "  for tweet in tweets:\n",
        "    # converting tweet time into datetime\n",
        "    created = datetime.datetime.strptime(tweet['created_at'], '%a %b %d %H:%M:%S +0000 %Y')\n",
        "    # getting the desired date/hour format and making a string\n",
        "    hour = created.strftime('%b-%d-%Y-%H')\n",
        "\n",
        "    # if an hour-group is not yet in the dictionary, add a new key\n",
        "    if hour not in groups:\n",
        "      groups[hour] = []\n",
        "\n",
        "    # append tweet to appropriate hour-group\n",
        "    groups[hour].append(tweet)\n",
        "\n",
        "  # create a new folder for output\n",
        "  new_folder = folder\n",
        "  os.makedirs(new_folder, exist_ok=True)\n",
        "  # change directory to output folder\n",
        "  os.chdir(folder)\n",
        "\n",
        "  # traversing through all the hour-groups\n",
        "  for hour, hour_tweets in groups.items():\n",
        "    # generate new output file and write tweets of hour-group\n",
        "    output = hour + \".txt\"\n",
        "    output_file = open(output, 'w')\n",
        "    for tweet in hour_tweets:\n",
        "      output_file.write(json.dumps(tweet) + '\\n')\n",
        "\n",
        "  # change directory back to original folder\n",
        "  os.chdir('..')\n",
        "\n",
        "\n",
        "task8('CrimeReport.txt', 'task8-output')"
      ],
      "metadata": {
        "id": "NhViToQt-moB"
      },
      "execution_count": 11,
      "outputs": []
    }
  ]
}